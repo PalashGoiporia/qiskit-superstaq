{
 "cells": [
  {
   "cell_type": "code",
   "execution_count": 8,
   "id": "38207b4d",
   "metadata": {},
   "outputs": [],
   "source": [
    "import qiskit\n",
    "from qiskit_superstaq import superstaq_provider"
   ]
  },
  {
   "cell_type": "code",
   "execution_count": 9,
   "id": "8c84adc3",
   "metadata": {},
   "outputs": [],
   "source": [
    "provider = superstaq_provider.SuperstaQProvider(api_key=\"YOUR KEY HERE\")"
   ]
  },
  {
   "cell_type": "code",
   "execution_count": 10,
   "id": "b615c8b9",
   "metadata": {},
   "outputs": [
    {
     "name": "stdout",
     "output_type": "stream",
     "text": [
      "     ┌───┐\n",
      "q_0: ┤ H ├\n",
      "     └───┘\n"
     ]
    }
   ],
   "source": [
    "qc = qiskit.QuantumCircuit(1)\n",
    "qc.h(0)\n",
    "print(qc)"
   ]
  },
  {
   "cell_type": "code",
   "execution_count": 1,
   "id": "ff18c7da",
   "metadata": {},
   "outputs": [],
   "source": [
    "out = provider.neutral_atom_compile(qc, target=\"neutral_atom_qpu\")\n",
    "_ = out.draw"
   ]
  },
  {
   "cell_type": "code",
   "execution_count": null,
   "id": "791e66e8",
   "metadata": {},
   "outputs": [],
   "source": [
    "# can alternatively pass in a list of quantum circuits\n",
    "qc0, qc1 = qiskit.QuantumCircuit(2), qiskit.QuantumCircuit(2)\n",
    "qc0.cx(0, 1)\n",
    "qc1.cx(1, 0)\n",
    "\n",
    "out = provider.neutral_atom_compile([qc0, qc1], target=\"neutral_atom_qpu\")"
   ]
  },
  {
   "cell_type": "code",
   "execution_count": null,
   "id": "f83e8036",
   "metadata": {},
   "outputs": [],
   "source": [
    "_ = out[0].draw()"
   ]
  },
  {
   "cell_type": "code",
   "execution_count": null,
   "id": "40f81181",
   "metadata": {},
   "outputs": [],
   "source": [
    "_ = out[1].draw()"
   ]
  }
 ],
 "metadata": {
  "kernelspec": {
   "display_name": "Python 3 (ipykernel)",
   "language": "python",
   "name": "python3"
  },
  "language_info": {
   "codemirror_mode": {
    "name": "ipython",
    "version": 3
   },
   "file_extension": ".py",
   "mimetype": "text/x-python",
   "name": "python",
   "nbconvert_exporter": "python",
   "pygments_lexer": "ipython3",
   "version": "3.8.10"
  }
 },
 "nbformat": 4,
 "nbformat_minor": 5
}
